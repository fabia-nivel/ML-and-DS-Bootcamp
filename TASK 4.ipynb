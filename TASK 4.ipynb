{
 "cells": [
  {
   "cell_type": "code",
   "execution_count": 1,
   "id": "7567e7ef",
   "metadata": {},
   "outputs": [
    {
     "name": "stdout",
     "output_type": "stream",
     "text": [
      "['student', 'am', 'i']\n"
     ]
    }
   ],
   "source": [
    "_list=['i','am','student']\n",
    "_list.reverse()\n",
    "print(_list)"
   ]
  },
  {
   "cell_type": "code",
   "execution_count": 2,
   "id": "a4871d3d",
   "metadata": {},
   "outputs": [
    {
     "name": "stdout",
     "output_type": "stream",
     "text": [
      "['We', 'will', 'Dream', 'big']\n"
     ]
    }
   ],
   "source": [
    "list1 = [\"W\", \"wi\", \"Dre\", \"b\"]\n",
    "list2 = [\"e\", \"ll\", \"am\", \"ig\"]\n",
    "ans=[]\n",
    "for i in range(len(list1)):\n",
    "    ans.append(list1[i]+list2[i])\n",
    "print(ans)    "
   ]
  },
  {
   "cell_type": "code",
   "execution_count": 3,
   "id": "ab9ee87e",
   "metadata": {},
   "outputs": [
    {
     "name": "stdout",
     "output_type": "stream",
     "text": [
      "[1, 4, 9, 16, 25, 36, 49]\n"
     ]
    }
   ],
   "source": [
    "list1 = [1, 2, 3, 4, 5, 6, 7]\n",
    "list2=[]\n",
    "for i in range(len(list1)):\n",
    "    temp=list1[i]*list1[i]\n",
    "    list2.append(temp)\n",
    "print(list2)\n",
    "    "
   ]
  },
  {
   "cell_type": "code",
   "execution_count": 8,
   "id": "4d106847",
   "metadata": {},
   "outputs": [
    {
     "name": "stdout",
     "output_type": "stream",
     "text": [
      "['Code', 'Studio', 'Academy']\n"
     ]
    }
   ],
   "source": [
    "list1=[\"Code\", \" \", \"Studio\", \"Academy\", \" \"]\n",
    "list2=[]\n",
    "for i in list1:\n",
    "    if (i!=\" \"):\n",
    "        list2.append(i) \n",
    "print(list2)"
   ]
  },
  {
   "cell_type": "code",
   "execution_count": 9,
   "id": "77922d0a",
   "metadata": {},
   "outputs": [
    {
     "name": "stdout",
     "output_type": "stream",
     "text": [
      "{'Red', 'Orange', 'Green', 'Yellow', 'Blue', 'Black'}\n"
     ]
    }
   ],
   "source": [
    "set = {\"Yellow\", \"Orange\", \"Black\"} \n",
    "list = [\"Blue\", \"Green\", \"Red\"]\n",
    "set.update(list)\n",
    "print(set)"
   ]
  },
  {
   "cell_type": "code",
   "execution_count": 10,
   "id": "897ac195",
   "metadata": {},
   "outputs": [
    {
     "name": "stdout",
     "output_type": "stream",
     "text": [
      "{2, 5, 6, 7}\n"
     ]
    }
   ],
   "source": [
    "set1 = {1, 2, 3, 4, 5}\n",
    "set2 = {1, 4, 3, 6, 7}\n",
    "\n",
    "print(set1.symmetric_difference(set2))"
   ]
  },
  {
   "cell_type": "code",
   "execution_count": 11,
   "id": "f299eefe",
   "metadata": {},
   "outputs": [
    {
     "name": "stdout",
     "output_type": "stream",
     "text": [
      "{'Ten': 10, 'Twenty': 20, 'Thirty': 30}\n"
     ]
    }
   ],
   "source": [
    "keys = ['Ten', 'Twenty', 'Thirty']\n",
    "values = [10, 20, 30]\n",
    "dic = {keys[i]: values[i] for i in range(len(keys))}\n",
    "print(dic)"
   ]
  },
  {
   "cell_type": "code",
   "execution_count": 12,
   "id": "de627574",
   "metadata": {},
   "outputs": [
    {
     "name": "stdout",
     "output_type": "stream",
     "text": [
      "{'Ten': 10, 'Twenty': 20, 'Thirty': 30, 'Fourty': 40, 'Fifty': 50}\n"
     ]
    }
   ],
   "source": [
    "dict1 = {'Ten': 10, 'Twenty': 20, 'Thirty': 30} \n",
    "dict2 = {'Thirty': 30, 'Fourty': 40, 'Fifty': 50}\n",
    "dict3 = dict1 | dict2\n",
    "print(dict3)"
   ]
  },
  {
   "cell_type": "code",
   "execution_count": 14,
   "id": "dfa04c41",
   "metadata": {},
   "outputs": [
    {
     "name": "stdout",
     "output_type": "stream",
     "text": [
      "{'problem_no': 1, 'type': 'hard', 'website': 'CF'}\n"
     ]
    }
   ],
   "source": [
    "code = {\n",
    "    \"problem_no\": 1,\n",
    "    \"type\": \"hard\",\n",
    "    \"site\": \"CF\"\n",
    "}\n",
    "code[\"website\"]=code.pop(\"site\")\n",
    "print(code)"
   ]
  },
  {
   "cell_type": "code",
   "execution_count": 16,
   "id": "f7828d8f",
   "metadata": {},
   "outputs": [
    {
     "name": "stdout",
     "output_type": "stream",
     "text": [
      "[(10, 1), (40, 2), (30, 3), (20, 5)]\n"
     ]
    }
   ],
   "source": [
    "tuple = [(10,1), (20,5), (30,3), (40,2)]\n",
    "tuple.sort(key = lambda a: a[1]) \n",
    "print(tuple)"
   ]
  },
  {
   "cell_type": "code",
   "execution_count": null,
   "id": "5df1786a",
   "metadata": {},
   "outputs": [],
   "source": []
  }
 ],
 "metadata": {
  "kernelspec": {
   "display_name": "Python 3 (ipykernel)",
   "language": "python",
   "name": "python3"
  },
  "language_info": {
   "codemirror_mode": {
    "name": "ipython",
    "version": 3
   },
   "file_extension": ".py",
   "mimetype": "text/x-python",
   "name": "python",
   "nbconvert_exporter": "python",
   "pygments_lexer": "ipython3",
   "version": "3.10.10"
  }
 },
 "nbformat": 4,
 "nbformat_minor": 5
}
