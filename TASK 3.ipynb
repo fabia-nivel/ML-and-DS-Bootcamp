{
 "cells": [
  {
   "cell_type": "code",
   "execution_count": 3,
   "id": "08f9bb09",
   "metadata": {},
   "outputs": [
    {
     "name": "stdout",
     "output_type": "stream",
     "text": [
      "nivel\n",
      "nvl\n"
     ]
    }
   ],
   "source": [
    "name=input()\n",
    "n=len(name)\n",
    "ans=name[0]\n",
    "m=int(n/2)\n",
    "ans=ans+name[m]\n",
    "ans=ans+name[n-1]\n",
    "print(ans)"
   ]
  },
  {
   "cell_type": "code",
   "execution_count": 9,
   "id": "9c0f3a12",
   "metadata": {},
   "outputs": [
    {
     "name": "stdout",
     "output_type": "stream",
     "text": [
      "faBiaAKter\n",
      "faiaterBAK\n"
     ]
    }
   ],
   "source": [
    "text=input()\n",
    "lower = []\n",
    "upper = []\n",
    "for i in text:\n",
    "    if i.islower():\n",
    "        lower.append(i)\n",
    "    else:\n",
    "        upper.append(i)\n",
    "ans=''.join(lower+upper)\n",
    "print(ans)\n"
   ]
  },
  {
   "cell_type": "code",
   "execution_count": 11,
   "id": "2535e265",
   "metadata": {},
   "outputs": [
    {
     "name": "stdout",
     "output_type": "stream",
     "text": [
      "abij34&^@##@\n",
      "Chars = 4 Digits = 2 Symbol = 6\n"
     ]
    }
   ],
   "source": [
    "text=input()\n",
    "count_letter = 0\n",
    "count_digit = 0\n",
    "count_sym = 0\n",
    "for i in text:\n",
    "        if i.isalpha():\n",
    "            count_letter += 1\n",
    "        elif i.isdigit():\n",
    "            count_digit += 1\n",
    "        else:\n",
    "            count_sym += 1\n",
    "\n",
    "print(\"Chars =\", count_letter, \"Digits =\", count_digit, \"Symbol =\", count_sym)"
   ]
  },
  {
   "cell_type": "code",
   "execution_count": 12,
   "id": "ab5c754a",
   "metadata": {},
   "outputs": [
    {
     "name": "stdout",
     "output_type": "stream",
     "text": [
      "hi-i-am-a-student\n",
      "hi\n",
      "i\n",
      "am\n",
      "a\n",
      "student\n"
     ]
    }
   ],
   "source": [
    "text=input()\n",
    "text1 = text.split(\"-\")\n",
    "for i in text1:\n",
    "    print(i)"
   ]
  },
  {
   "cell_type": "code",
   "execution_count": 13,
   "id": "7d370cd8",
   "metadata": {},
   "outputs": [
    {
     "name": "stdout",
     "output_type": "stream",
     "text": [
      "hello\n",
      "olleh\n"
     ]
    }
   ],
   "source": [
    "text=input()\n",
    "text1=text[::-1]\n",
    "print(text1)"
   ]
  },
  {
   "cell_type": "code",
   "execution_count": 15,
   "id": "07b9f085",
   "metadata": {},
   "outputs": [
    {
     "name": "stdout",
     "output_type": "stream",
     "text": [
      "21\n",
      "13\n"
     ]
    }
   ],
   "source": [
    "def my_func(*args):\n",
    "    ans= sum(args)\n",
    "    print(ans)\n",
    "\n",
    "my_func(1,5,7,8)\n",
    "my_func(1,5,7)\n"
   ]
  },
  {
   "cell_type": "code",
   "execution_count": null,
   "id": "7dd65095",
   "metadata": {},
   "outputs": [],
   "source": []
  }
 ],
 "metadata": {
  "kernelspec": {
   "display_name": "Python 3 (ipykernel)",
   "language": "python",
   "name": "python3"
  },
  "language_info": {
   "codemirror_mode": {
    "name": "ipython",
    "version": 3
   },
   "file_extension": ".py",
   "mimetype": "text/x-python",
   "name": "python",
   "nbconvert_exporter": "python",
   "pygments_lexer": "ipython3",
   "version": "3.10.10"
  }
 },
 "nbformat": 4,
 "nbformat_minor": 5
}
