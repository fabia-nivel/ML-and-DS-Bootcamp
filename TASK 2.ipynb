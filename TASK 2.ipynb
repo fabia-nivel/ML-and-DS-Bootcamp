{
 "cells": [
  {
   "cell_type": "code",
   "execution_count": 15,
   "id": "0d6dfde0",
   "metadata": {},
   "outputs": [
    {
     "name": "stdout",
     "output_type": "stream",
     "text": [
      "120.23\n"
     ]
    }
   ],
   "source": [
    "a = 120.234567\n",
    "b= \"{:.2f}\".format(a)\n",
    "print(b)"
   ]
  },
  {
   "cell_type": "code",
   "execution_count": 17,
   "id": "8ca705d5",
   "metadata": {},
   "outputs": [
    {
     "name": "stdout",
     "output_type": "stream",
     "text": [
      "Enter the list size 5\n",
      "1\n",
      "5\n",
      "6\n",
      "3\n",
      "4\n",
      "[1, 5, 6, 3, 4]\n"
     ]
    }
   ],
   "source": [
    "user_list = []\n",
    "n = int(input(\"Enter the list size \"))\n",
    "for i in range(0, n):\n",
    "    a = int(input())\n",
    "    user_list.append(a)\n",
    "print(user_list)"
   ]
  },
  {
   "cell_type": "code",
   "execution_count": 3,
   "id": "1da3d274",
   "metadata": {},
   "outputs": [
    {
     "name": "stdout",
     "output_type": "stream",
     "text": [
      "1234\n",
      "4\n"
     ]
    }
   ],
   "source": [
    "a=int(input())\n",
    "count = 0\n",
    "\n",
    "while a != 0:\n",
    "    a //= 10\n",
    "    count += 1\n",
    "\n",
    "print(count)"
   ]
  },
  {
   "cell_type": "code",
   "execution_count": null,
   "id": "3db7e65d",
   "metadata": {},
   "outputs": [],
   "source": [
    "n=int(input())\n",
    "i = 1\n",
    "while i <= n:\n",
    "    print(i)\n",
    "    i=i+1"
   ]
  },
  {
   "cell_type": "code",
   "execution_count": null,
   "id": "4bca9a21",
   "metadata": {},
   "outputs": [],
   "source": [
    "n=int(input(\"Enter a negatuve number: \"))\n",
    "for i in range(n,-0,1):\n",
    "    print(i)"
   ]
  },
  {
   "cell_type": "code",
   "execution_count": 7,
   "id": "0e8c68b8",
   "metadata": {},
   "outputs": [
    {
     "name": "stdout",
     "output_type": "stream",
     "text": [
      "-2\n",
      "Not possible\n"
     ]
    }
   ],
   "source": [
    "a=int(input())\n",
    "factorial=1\n",
    "if a < 0:\n",
    "   print(\"Not possible\")\n",
    "elif a== 0:\n",
    "   print(\"The factorial is 1\")\n",
    "else:\n",
    "   for i in range(1,a + 1):\n",
    "       factorial = factorial*i\n",
    "   print(\"The factorial is \",factorial)"
   ]
  },
  {
   "cell_type": "code",
   "execution_count": 14,
   "id": "9baa4703",
   "metadata": {},
   "outputs": [
    {
     "name": "stdout",
     "output_type": "stream",
     "text": [
      "1\n",
      "\n",
      "12\n",
      "\n",
      "123\n",
      "\n",
      "1234\n",
      "\n",
      "12345\n",
      "\n"
     ]
    }
   ],
   "source": [
    "for i in range(1,6):\n",
    "    for j in range(i):\n",
    "        print(j+1,end='')\n",
    "    print(\"\\n\")"
   ]
  },
  {
   "cell_type": "code",
   "execution_count": null,
   "id": "fded673c",
   "metadata": {},
   "outputs": [],
   "source": []
  }
 ],
 "metadata": {
  "kernelspec": {
   "display_name": "Python 3 (ipykernel)",
   "language": "python",
   "name": "python3"
  },
  "language_info": {
   "codemirror_mode": {
    "name": "ipython",
    "version": 3
   },
   "file_extension": ".py",
   "mimetype": "text/x-python",
   "name": "python",
   "nbconvert_exporter": "python",
   "pygments_lexer": "ipython3",
   "version": "3.10.10"
  }
 },
 "nbformat": 4,
 "nbformat_minor": 5
}
