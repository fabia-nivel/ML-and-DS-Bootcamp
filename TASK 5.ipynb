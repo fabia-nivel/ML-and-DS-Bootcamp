{
 "cells": [
  {
   "cell_type": "code",
   "execution_count": 1,
   "id": "11acdf16",
   "metadata": {},
   "outputs": [],
   "source": [
    "class Vehicle:\n",
    "    pass"
   ]
  },
  {
   "cell_type": "code",
   "execution_count": 5,
   "id": "c2b73a49",
   "metadata": {},
   "outputs": [
    {
     "name": "stdout",
     "output_type": "stream",
     "text": [
      "tesla 10M\n"
     ]
    }
   ],
   "source": [
    "class Vehicle:\n",
    "    def __init__(self, company,price):\n",
    "        self.company = company\n",
    "        self.price = price\n",
    "\n",
    "car = Vehicle(\"tesla\",\"10M\")\n",
    "print(car.company, car.price)"
   ]
  },
  {
   "cell_type": "code",
   "execution_count": 6,
   "id": "6f618880",
   "metadata": {},
   "outputs": [
    {
     "name": "stdout",
     "output_type": "stream",
     "text": [
      "Vehicle Name: tesla Speed: 200 Mileage: 70\n"
     ]
    }
   ],
   "source": [
    "class Vehicle:\n",
    "\n",
    "    def __init__(self, name, max_speed, mileage):\n",
    "        self.name = name\n",
    "        self.max_speed = max_speed\n",
    "        self.mileage = mileage\n",
    "\n",
    "class Car(Vehicle):\n",
    "    pass\n",
    "Details = Car(\"tesla\",200,70)\n",
    "print(\"Vehicle Name:\", Details.name, \"Speed:\",Details.max_speed, \"Mileage:\", Details.mileage)"
   ]
  },
  {
   "cell_type": "code",
   "execution_count": null,
   "id": "e9b91afd",
   "metadata": {},
   "outputs": [],
   "source": []
  }
 ],
 "metadata": {
  "kernelspec": {
   "display_name": "Python 3 (ipykernel)",
   "language": "python",
   "name": "python3"
  },
  "language_info": {
   "codemirror_mode": {
    "name": "ipython",
    "version": 3
   },
   "file_extension": ".py",
   "mimetype": "text/x-python",
   "name": "python",
   "nbconvert_exporter": "python",
   "pygments_lexer": "ipython3",
   "version": "3.10.10"
  }
 },
 "nbformat": 4,
 "nbformat_minor": 5
}
